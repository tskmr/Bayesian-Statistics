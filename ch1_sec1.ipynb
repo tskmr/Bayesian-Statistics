{
  "nbformat": 4,
  "nbformat_minor": 0,
  "metadata": {
    "colab": {
      "provenance": [],
      "authorship_tag": "ABX9TyPUrdpKJcqRA2SewU99nPZZ",
      "include_colab_link": true
    },
    "kernelspec": {
      "name": "python3",
      "display_name": "Python 3"
    },
    "language_info": {
      "name": "python"
    }
  },
  "cells": [
    {
      "cell_type": "markdown",
      "metadata": {
        "id": "view-in-github",
        "colab_type": "text"
      },
      "source": [
        "<a href=\"https://colab.research.google.com/github/tskmr/Bayesian-Statistics/blob/main/ch1_sec1.ipynb\" target=\"_parent\"><img src=\"https://colab.research.google.com/assets/colab-badge.svg\" alt=\"Open In Colab\"/></a>"
      ]
    },
    {
      "cell_type": "code",
      "execution_count": 3,
      "metadata": {
        "colab": {
          "base_uri": "https://localhost:8080/"
        },
        "id": "WWMoMFUAGWWN",
        "outputId": "b5809a1a-ac85-4001-cafc-4a3ddee2c03b"
      },
      "outputs": [
        {
          "output_type": "stream",
          "name": "stdout",
          "text": [
            "陽性と判定された人が実際に病気である確率: 0.032\n"
          ]
        }
      ],
      "source": [
        "def posterior_probability(prevalence, sensitivity, specificity):\n",
        "    # P(positive | disease) = sensitivity\n",
        "    # P(positive | no disease) = 1 - specificity\n",
        "    p_disease = prevalence\n",
        "    p_no_disease = 1 - prevalence\n",
        "\n",
        "    p_pos_given_disease = sensitivity\n",
        "    p_pos_given_no_disease = 1 - specificity\n",
        "\n",
        "    numerator = p_pos_given_disease * p_disease\n",
        "    denominator = numerator + p_pos_given_no_disease * p_no_disease\n",
        "\n",
        "    return numerator / denominator\n",
        "\n",
        "# 例: 有病率0.1%, 感度99%, 特異度97%\n",
        "prevalence = 0.001\n",
        "sensitivity = 0.99\n",
        "specificity = 0.97\n",
        "\n",
        "ppv = posterior_probability(prevalence, sensitivity, specificity)\n",
        "print(f\"陽性と判定された人が実際に病気である確率: {ppv:.3f}\")\n"
      ]
    }
  ]
}