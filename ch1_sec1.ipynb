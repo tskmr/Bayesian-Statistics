{
  "nbformat": 4,
  "nbformat_minor": 0,
  "metadata": {
    "colab": {
      "provenance": [],
      "authorship_tag": "ABX9TyPW0KWs+A8OPVlgxNpT04qr",
      "include_colab_link": true
    },
    "kernelspec": {
      "name": "python3",
      "display_name": "Python 3"
    },
    "language_info": {
      "name": "python"
    }
  },
  "cells": [
    {
      "cell_type": "markdown",
      "metadata": {
        "id": "view-in-github",
        "colab_type": "text"
      },
      "source": [
        "<a href=\"https://colab.research.google.com/github/tskmr/Bayesian-Statistics/blob/main/ch1_sec1.ipynb\" target=\"_parent\"><img src=\"https://colab.research.google.com/assets/colab-badge.svg\" alt=\"Open In Colab\"/></a>"
      ]
    },
    {
      "cell_type": "markdown",
      "source": [
        "# 1"
      ],
      "metadata": {
        "id": "XBt76EHDJ0K6"
      }
    },
    {
      "cell_type": "code",
      "execution_count": 3,
      "metadata": {
        "colab": {
          "base_uri": "https://localhost:8080/"
        },
        "id": "WWMoMFUAGWWN",
        "outputId": "b5809a1a-ac85-4001-cafc-4a3ddee2c03b"
      },
      "outputs": [
        {
          "output_type": "stream",
          "name": "stdout",
          "text": [
            "陽性と判定された人が実際に病気である確率: 0.032\n"
          ]
        }
      ],
      "source": [
        "def posterior_probability(prevalence, sensitivity, specificity):\n",
        "    # P(positive | disease) = sensitivity\n",
        "    # P(positive | no disease) = 1 - specificity\n",
        "    p_disease = prevalence\n",
        "    p_no_disease = 1 - prevalence\n",
        "\n",
        "    p_pos_given_disease = sensitivity\n",
        "    p_pos_given_no_disease = 1 - specificity\n",
        "\n",
        "    numerator = p_pos_given_disease * p_disease\n",
        "    denominator = numerator + p_pos_given_no_disease * p_no_disease\n",
        "\n",
        "    return numerator / denominator\n",
        "\n",
        "# 例: 有病率0.1%, 感度99%, 特異度97%\n",
        "prevalence = 0.001\n",
        "sensitivity = 0.99\n",
        "specificity = 0.97\n",
        "\n",
        "ppv = posterior_probability(prevalence, sensitivity, specificity)\n",
        "print(f\"陽性と判定された人が実際に病気である確率: {ppv:.3f}\")\n"
      ]
    },
    {
      "cell_type": "markdown",
      "source": [
        "# 2"
      ],
      "metadata": {
        "id": "hXycyfeqJ2we"
      }
    },
    {
      "cell_type": "code",
      "source": [
        "# 例: 有病率3.2%, 感度98%, 特異度98%\n",
        "prevalence = 0.032\n",
        "sensitivity = 0.98\n",
        "specificity = 0.98\n",
        "\n",
        "ppv = posterior_probability(prevalence, sensitivity, specificity)\n",
        "print(f\"陽性と判定された人が実際に病気である確率: {ppv:.3f}\")"
      ],
      "metadata": {
        "colab": {
          "base_uri": "https://localhost:8080/"
        },
        "id": "_NFPqhWsJ3pP",
        "outputId": "3769ca10-1422-4b1d-fdca-f66554f4b898"
      },
      "execution_count": 4,
      "outputs": [
        {
          "output_type": "stream",
          "name": "stdout",
          "text": [
            "陽性と判定された人が実際に病気である確率: 0.618\n"
          ]
        }
      ]
    },
    {
      "cell_type": "markdown",
      "source": [
        "# 3"
      ],
      "metadata": {
        "id": "ZR42DlSaKSsN"
      }
    },
    {
      "cell_type": "code",
      "source": [
        "# 1回目: 有病率0.1%, 感度99%, 特異度97%\n",
        "prevalence = 0.001\n",
        "sensitivity = 0.99\n",
        "specificity = 0.97\n",
        "\n",
        "ppv = posterior_probability(prevalence, sensitivity, specificity)\n",
        "print(f\"陽性と判定された人が実際に病気である確率: {ppv:.3f}\")\n",
        "\n",
        "# 2回目: 有病率はppv, 感度98%, 特異度98%\n",
        "sensitivity = 0.98\n",
        "specificity = 0.98\n",
        "ppv = posterior_probability(ppv, sensitivity, specificity)\n",
        "print(f\"陽性と判定された人が実際に病気である確率: {ppv:.3f}\")\n"
      ],
      "metadata": {
        "colab": {
          "base_uri": "https://localhost:8080/"
        },
        "id": "x28PkUusKTL-",
        "outputId": "ffb95f9a-370b-4caa-93da-3caede438d02"
      },
      "execution_count": 9,
      "outputs": [
        {
          "output_type": "stream",
          "name": "stdout",
          "text": [
            "陽性と判定された人が実際に病気である確率: 0.032\n",
            "陽性と判定された人が実際に病気である確率: 0.618\n"
          ]
        }
      ]
    },
    {
      "cell_type": "code",
      "source": [
        "# 1回目: 有病率0.1%, 感度98%, 特異度98%\n",
        "prevalence = 0.001\n",
        "sensitivity = 0.98\n",
        "specificity = 0.98\n",
        "\n",
        "ppv = posterior_probability(prevalence, sensitivity, specificity)\n",
        "print(f\"陽性と判定された人が実際に病気である確率: {ppv:.3f}\")\n",
        "\n",
        "# 2回目: 有病率はppv, 感度99%, 特異度97%\n",
        "sensitivity = 0.99\n",
        "specificity = 0.97\n",
        "ppv = posterior_probability(ppv, sensitivity, specificity)\n",
        "print(f\"陽性と判定された人が実際に病気である確率: {ppv:.3f}\")\n"
      ],
      "metadata": {
        "colab": {
          "base_uri": "https://localhost:8080/"
        },
        "id": "0QFztDNiLCEx",
        "outputId": "c3aa27d8-397d-4f29-8a7a-570951b40abd"
      },
      "execution_count": 10,
      "outputs": [
        {
          "output_type": "stream",
          "name": "stdout",
          "text": [
            "陽性と判定された人が実際に病気である確率: 0.047\n",
            "陽性と判定された人が実際に病気である確率: 0.618\n"
          ]
        }
      ]
    },
    {
      "cell_type": "markdown",
      "source": [
        "# 発展"
      ],
      "metadata": {
        "id": "JSwFFsDoQrGh"
      }
    },
    {
      "cell_type": "code",
      "source": [
        "def bayes_update(prior, likelihoods, observation):\n",
        "    updated = {}\n",
        "    for h in prior:\n",
        "        if observation:\n",
        "            p_obs_given_h = likelihoods[h]\n",
        "        else:\n",
        "            p_obs_given_h = 1 - likelihoods[h]\n",
        "        updated[h] = prior[h] * p_obs_given_h\n",
        "\n",
        "    total = sum(updated.values())\n",
        "    for h in updated:\n",
        "        updated[h] /= total\n",
        "\n",
        "    return updated\n",
        "\n",
        "# 陽性事後確率計算用\n",
        "# 1回目\n",
        "prevalence = 0.001\n",
        "sensitivity1 = 0.99\n",
        "specificity1 = 0.97\n",
        "prior = {\"病気\": prevalence, \"健康\": 1 - prevalence}\n",
        "likelihoods = {\"病気\": sensitivity1, \"健康\": 1 - specificity1}\n",
        "\n",
        "# 観測は陽性(True)\n",
        "posterior1 = bayes_update(prior, likelihoods, True)\n",
        "formatted1 = {k: f\"{v:.3f}\" for k, v in posterior1.items()}\n",
        "print(f\"1回目陽性観測後の事後確率: {formatted1}\")\n",
        "\n",
        "# 2回目\n",
        "prevalence2 = posterior1[\"病気\"]  # 1回目の事後確率を新しい事前に\n",
        "sensitivity2 = 0.98\n",
        "specificity2 = 0.98\n",
        "prior2 = {\"病気\": prevalence2, \"健康\": 1 - prevalence2}\n",
        "likelihoods2 = {\"病気\": sensitivity2, \"健康\": 1 - specificity2}\n",
        "posterior2 = bayes_update(prior2, likelihoods2, True)\n",
        "formatted2 = {k: f\"{v:.3f}\" for k, v in posterior2.items()}\n",
        "print(f\"2回目陽性観測後の事後確率: {formatted2}\")\n",
        "\n",
        "\n",
        "print(\"1回目と2回目の検査の入れ替え\")\n",
        "# 1回目\n",
        "prior = {\"病気\": prevalence, \"健康\": 1 - prevalence}\n",
        "likelihoods = {\"病気\": sensitivity2, \"健康\": 1 - specificity2}\n",
        "\n",
        "# 観測は陽性(True)\n",
        "posterior1 = bayes_update(prior, likelihoods, True)\n",
        "formatted1 = {k: f\"{v:.3f}\" for k, v in posterior1.items()}\n",
        "print(f\"1回目陽性観測後の事後確率: {formatted1}\")\n",
        "\n",
        "# 2回目\n",
        "prevalence2 = posterior1[\"病気\"]  # 1回目の事後確率を新しい事前に\n",
        "prior2 = {\"病気\": prevalence2, \"健康\": 1 - prevalence2}\n",
        "likelihoods2 = {\"病気\": sensitivity1, \"健康\": 1 - specificity1}\n",
        "posterior2 = bayes_update(prior2, likelihoods2, True)\n",
        "formatted2 = {k: f\"{v:.3f}\" for k, v in posterior2.items()}\n",
        "print(f\"2回目陽性観測後の事後確率: {formatted2}\")\n"
      ],
      "metadata": {
        "colab": {
          "base_uri": "https://localhost:8080/"
        },
        "id": "5OqnKwLwQsCr",
        "outputId": "8b446ffe-d4be-45c2-aecc-8dfcff53f4c2"
      },
      "execution_count": 14,
      "outputs": [
        {
          "output_type": "stream",
          "name": "stdout",
          "text": [
            "1回目陽性観測後の事後確率: {'病気': '0.032', '健康': '0.968'}\n",
            "2回目陽性観測後の事後確率: {'病気': '0.618', '健康': '0.382'}\n",
            "1回目と2回目の検査の入れ替え\n",
            "1回目陽性観測後の事後確率: {'病気': '0.047', '健康': '0.953'}\n",
            "2回目陽性観測後の事後確率: {'病気': '0.618', '健康': '0.382'}\n"
          ]
        }
      ]
    }
  ]
}